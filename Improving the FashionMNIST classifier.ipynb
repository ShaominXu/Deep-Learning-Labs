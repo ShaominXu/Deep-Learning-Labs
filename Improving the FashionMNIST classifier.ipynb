{
  "nbformat": 4,
  "nbformat_minor": 0,
  "metadata": {
    "colab": {
      "provenance": [],
      "include_colab_link": true
    },
    "kernelspec": {
      "name": "python3",
      "display_name": "Python 3"
    },
    "accelerator": "GPU"
  },
  "cells": [
    {
      "cell_type": "markdown",
      "metadata": {
        "id": "view-in-github",
        "colab_type": "text"
      },
      "source": [
        "<a href=\"https://colab.research.google.com/github/ShaominXu/Deep-Learning-Labs/blob/main/Improving%20the%20FashionMNIST%20classifier.ipynb\" target=\"_parent\"><img src=\"https://colab.research.google.com/assets/colab-badge.svg\" alt=\"Open In Colab\"/></a>"
      ]
    },
    {
      "cell_type": "code",
      "metadata": {
        "id": "VVRwR8OvAHWh"
      },
      "source": [
        "import numpy as np\n",
        "import torch\n",
        "import torchvision\n",
        "import matplotlib.pyplot as plt\n"
      ],
      "execution_count": null,
      "outputs": []
    },
    {
      "cell_type": "markdown",
      "metadata": {
        "id": "aaPN1ZSrBog5"
      },
      "source": [
        "# Training simple neural nets\n"
      ]
    },
    {
      "cell_type": "code",
      "metadata": {
        "colab": {
          "base_uri": "https://localhost:8080/"
        },
        "id": "DqjmlixNCMlZ",
        "outputId": "e3506e2a-262a-419f-8ff0-f11f3baf2f6b"
      },
      "source": [
        "trainingdata = torchvision.datasets.FashionMNIST('./FashionMNIST/',train=True,download=True,transform=torchvision.transforms.ToTensor())\n",
        "testdata = torchvision.datasets.FashionMNIST('./FashionMNIST/',train=False,download=True,transform=torchvision.transforms.ToTensor())"
      ],
      "execution_count": null,
      "outputs": [
        {
          "output_type": "stream",
          "name": "stderr",
          "text": [
            "/usr/local/lib/python3.7/dist-packages/torchvision/datasets/mnist.py:498: UserWarning: The given NumPy array is not writeable, and PyTorch does not support non-writeable tensors. This means you can write to the underlying (supposedly non-writeable) NumPy array using the tensor. You may want to copy the array to protect its data or make it writeable before converting it to a tensor. This type of warning will be suppressed for the rest of this program. (Triggered internally at  /pytorch/torch/csrc/utils/tensor_numpy.cpp:180.)\n",
            "  return torch.from_numpy(parsed.astype(m[2], copy=False)).view(*s)\n"
          ]
        }
      ]
    },
    {
      "cell_type": "code",
      "metadata": {
        "id": "hnES23k0EN4_"
      },
      "source": [
        "trainDataLoader = torch.utils.data.DataLoader(trainingdata,batch_size=64,shuffle=True)\n",
        "testDataLoader = torch.utils.data.DataLoader(testdata,batch_size=64,shuffle=False)"
      ],
      "execution_count": null,
      "outputs": []
    },
    {
      "cell_type": "markdown",
      "metadata": {
        "id": "7wj4aUENEiTf"
      },
      "source": [
        "Let's now use the DataLoader object to spit out a few images from the dataset."
      ]
    },
    {
      "cell_type": "code",
      "metadata": {
        "colab": {
          "base_uri": "https://localhost:8080/",
          "height": 146
        },
        "id": "aQkgEdydEoHH",
        "outputId": "5ab4adf5-b64e-44c6-ef41-26e179283e3c"
      },
      "source": [
        "images, labels = iter(trainDataLoader).next()\n",
        "\n",
        "plt.figure(figsize=(10,4))\n",
        "for index in np.arange(0,5):\n",
        "  plt.subplot(1,5,index+1)\n",
        "  plt.imshow(images[index].squeeze().numpy(),cmap=plt.cm.gray)"
      ],
      "execution_count": null,
      "outputs": [
        {
          "output_type": "display_data",
          "data": {
            "image/png": "[encoded data removed]",
            "text/plain": [
              "<Figure size 720x288 with 5 Axes>"
            ]
          },
          "metadata": {
            "needs_background": "light"
          }
        }
      ]
    },
    {
      "cell_type": "code",
      "metadata": {
        "id": "fJy4Ow0WJ6Te"
      },
      "source": [
        "from torch import nn\n",
        "from torch.nn import NLLLoss\n",
        "from torch.optim import SGD\n",
        "\n",
        "#Network parameters\n",
        "\n",
        "input_size = 784 #i.e 28*28*1\n",
        "hidden_size = [256,128,64]\n",
        "out_size = 10\n",
        "\n",
        "model = nn.Sequential(\n",
        "nn.Linear(input_size,hidden_size[0]),\n",
        "nn.ReLU(),\n",
        "nn.Linear(hidden_size[0],hidden_size[1]),\n",
        "nn.ReLU(),\n",
        "nn.Linear(hidden_size[1],hidden_size[2]),\n",
        "nn.ReLU(),\n",
        "nn.Linear(hidden_size[2],out_size),\n",
        "nn.LogSoftmax(dim=1)\n",
        ")\n",
        "\n",
        "model = model.cuda()\n",
        "Loss = NLLLoss()\n",
        "optimizer = SGD(model.parameters(),lr=0.01)"
      ],
      "execution_count": null,
      "outputs": []
    },
    {
      "cell_type": "code",
      "metadata": {
        "colab": {
          "base_uri": "https://localhost:8080/"
        },
        "id": "_2otvKSnA0G4",
        "outputId": "90d689aa-a033-4d48-b9f6-20a9ffa943c2"
      },
      "source": [
        "print(model)"
      ],
      "execution_count": null,
      "outputs": [
        {
          "output_type": "stream",
          "name": "stdout",
          "text": [
            "Sequential(\n",
            "  (0): Linear(in_features=784, out_features=256, bias=True)\n",
            "  (1): ReLU()\n",
            "  (2): Linear(in_features=256, out_features=128, bias=True)\n",
            "  (3): ReLU()\n",
            "  (4): Linear(in_features=128, out_features=64, bias=True)\n",
            "  (5): ReLU()\n",
            "  (6): Linear(in_features=64, out_features=10, bias=True)\n",
            "  (7): LogSoftmax(dim=1)\n",
            ")\n"
          ]
        }
      ]
    },
    {
      "cell_type": "markdown",
      "metadata": {
        "id": "Xs9-dDLsKFrc"
      },
      "source": [
        "Cool! Everything is set up. Let's now train our network."
      ]
    },
    {
      "cell_type": "code",
      "metadata": {
        "colab": {
          "base_uri": "https://localhost:8080/"
        },
        "id": "M7uJydfJKNf1",
        "outputId": "962a0e11-17ce-4e76-978c-514de6c61f9d"
      },
      "source": [
        "train_loss_history = []\n",
        "test_loss_history = []\n",
        "\n",
        "for epoch in range(40):\n",
        "  train_loss = 0.0\n",
        "  test_loss = 0.0\n",
        "  for i, data in enumerate(trainDataLoader):\n",
        "    images, labels = data\n",
        "    images = images.view(images.shape[0],-1) #sqash the image in to 784*1 vector\n",
        "\n",
        "    images = images.cuda()\n",
        "    labels = labels.cuda()\n",
        "    optimizer.zero_grad()\n",
        "    predicted_output = model(images)\n",
        "    fit = Loss(predicted_output,labels)\n",
        "    fit.backward()\n",
        "    optimizer.step()\n",
        "    train_loss += fit.item()\n",
        "  for i, data in enumerate(testDataLoader):\n",
        "    with torch.no_grad():\n",
        "      images, labels = data\n",
        "      images = images.view(images.shape[0],-1)\n",
        "      images = images.cuda()\n",
        "      labels = labels.cuda()\n",
        "      predicted_output = model(images)\n",
        "      images = images.view(images.shape[0],-1)\n",
        "      fit = Loss(predicted_output,labels)\n",
        "      test_loss += fit.item()\n",
        "  train_loss = train_loss/len(trainDataLoader)\n",
        "  test_loss = test_loss/len(testDataLoader)\n",
        "  train_loss_history.append(train_loss)\n",
        "  test_loss_history.append(test_loss)\n",
        "  print('Epoch %s, Train loss %s, Test loss %s'%(epoch, train_loss, test_loss))"
      ],
      "execution_count": null,
      "outputs": [
        {
          "output_type": "stream",
          "name": "stdout",
          "text": [
            "Epoch 0, Train loss 1.933752083702128, Test loss 1.1290313085173345\n",
            "Epoch 1, Train loss 0.8608085990968798, Test loss 0.7772116192207215\n",
            "Epoch 2, Train loss 0.6842319166291752, Test loss 0.6718125677412483\n",
            "Epoch 3, Train loss 0.6071509477426248, Test loss 0.6398555651591842\n",
            "Epoch 4, Train loss 0.556720624409759, Test loss 0.5537670030715359\n",
            "Epoch 5, Train loss 0.5199857631376558, Test loss 0.571636776825425\n",
            "Epoch 6, Train loss 0.4920224001539796, Test loss 0.5158426123819534\n",
            "Epoch 7, Train loss 0.46932023255301436, Test loss 0.4838029666311422\n",
            "Epoch 8, Train loss 0.4505419122225949, Test loss 0.5074509257913395\n",
            "Epoch 9, Train loss 0.43659383851264333, Test loss 0.4723256362281787\n",
            "Epoch 10, Train loss 0.42404448576192105, Test loss 0.44294530115309794\n",
            "Epoch 11, Train loss 0.4122301816844991, Test loss 0.43451430900081706\n",
            "Epoch 12, Train loss 0.40328394052888283, Test loss 0.4420599207566802\n",
            "Epoch 13, Train loss 0.39168267824184666, Test loss 0.41886197751874377\n",
            "Epoch 14, Train loss 0.3835894814464075, Test loss 0.41770303467656394\n",
            "Epoch 15, Train loss 0.37520136866869447, Test loss 0.4065240035960629\n",
            "Epoch 16, Train loss 0.367433927587863, Test loss 0.4094652851485902\n",
            "Epoch 17, Train loss 0.36119724139730053, Test loss 0.4396451764805302\n",
            "Epoch 18, Train loss 0.3525069676863868, Test loss 0.3942850353611503\n",
            "Epoch 19, Train loss 0.3472762930669637, Test loss 0.39531477687844807\n",
            "Epoch 20, Train loss 0.33941641322045185, Test loss 0.3920125855951552\n",
            "Epoch 21, Train loss 0.33432075249424364, Test loss 0.37691196277263056\n",
            "Epoch 22, Train loss 0.32861836209321327, Test loss 0.37675897947921877\n",
            "Epoch 23, Train loss 0.3225032371609831, Test loss 0.3755866540655209\n",
            "Epoch 24, Train loss 0.31698467916072304, Test loss 0.39432567215649184\n",
            "Epoch 25, Train loss 0.3122068313933385, Test loss 0.3601570725440979\n",
            "Epoch 26, Train loss 0.30758368992792773, Test loss 0.37322154005242003\n",
            "Epoch 27, Train loss 0.30197930190640726, Test loss 0.36389650413944463\n",
            "Epoch 28, Train loss 0.2968919548366878, Test loss 0.36985552121119897\n",
            "Epoch 29, Train loss 0.29324242169224124, Test loss 0.3580552939396755\n",
            "Epoch 30, Train loss 0.28878131588257705, Test loss 0.41121083488509913\n",
            "Epoch 31, Train loss 0.28537644830339753, Test loss 0.35472082503282343\n",
            "Epoch 32, Train loss 0.2805682043515162, Test loss 0.3723867486236961\n",
            "Epoch 33, Train loss 0.2760719727001973, Test loss 0.4164586538911625\n",
            "Epoch 34, Train loss 0.2732552715233648, Test loss 0.3541093406973371\n",
            "Epoch 35, Train loss 0.2687962515585458, Test loss 0.36152832589711353\n",
            "Epoch 36, Train loss 0.2665604634770452, Test loss 0.3964672176891072\n",
            "Epoch 37, Train loss 0.26244619965299104, Test loss 0.33288743617428335\n",
            "Epoch 38, Train loss 0.25859526855382586, Test loss 0.35063298971979484\n",
            "Epoch 39, Train loss 0.2544379167592348, Test loss 0.35487436441479214\n"
          ]
        }
      ]
    },
    {
      "cell_type": "markdown",
      "metadata": {
        "id": "ioCw2SGkLMa-"
      },
      "source": [
        "Let's see how we did! We have tracked the losses so let's plot it."
      ]
    },
    {
      "cell_type": "code",
      "metadata": {
        "colab": {
          "base_uri": "https://localhost:8080/",
          "height": 298
        },
        "id": "xJL3FKJOLRWB",
        "outputId": "027005e4-3b33-42e7-df88-f6ca3b323416"
      },
      "source": [
        "plt.plot(range(40),train_loss_history,'-',linewidth=3,label='Train error')\n",
        "plt.plot(range(40),test_loss_history,'-',linewidth=3,label='Test error')\n",
        "plt.xlabel('epoch')\n",
        "plt.ylabel('loss')\n",
        "plt.grid(True)\n",
        "plt.legend()"
      ],
      "execution_count": null,
      "outputs": [
        {
          "output_type": "execute_result",
          "data": {
            "text/plain": [
              "<matplotlib.legend.Legend at 0x7f7f9c202ed0>"
            ]
          },
          "metadata": {},
          "execution_count": 8
        },
        {
          "output_type": "display_data",
          "data": {
            "image/png": "[encoded data removed]",
            "text/plain": [
              "<Figure size 432x288 with 1 Axes>"
            ]
          },
          "metadata": {
            "needs_background": "light"
          }
        }
      ]
    },
    {
      "cell_type": "markdown",
      "metadata": {
        "id": "H-DsItFbLUdx"
      },
      "source": [
        "Let's evaluate our final model on a few more images to wrap things up."
      ]
    },
    {
      "cell_type": "code",
      "metadata": {
        "colab": {
          "base_uri": "https://localhost:8080/"
        },
        "id": "fk636QriLdGH",
        "outputId": "8e985ddc-1dda-4462-d92e-f7bc66e6f17a"
      },
      "source": [
        "import helper\n",
        "\n",
        "%matplotlib inline\n",
        "%config InlineBackend.figure_format = 'retina'\n",
        "\n",
        "\n",
        "# Test out your network!\n",
        "\n",
        "dataiter = iter(testDataLoader)\n",
        "images, labels = dataiter.next()\n",
        "img = images[0]\n",
        "# Convert 2D image to 1D vector\n",
        "img = img.resize_(1, 784)\n",
        "\n",
        "model = model.cpu()\n",
        "\n",
        "#turn off the gradients\n",
        "with torch.no_grad():\n",
        "  logps = model(img)\n",
        "# TODO: Calculate the class probabilities (softmax) for img\n",
        "ps = torch.exp(logps)\n",
        "\n",
        "# Plot the image and probabilities\n",
        "\n",
        "print(logps)\n"
      ],
      "execution_count": null,
      "outputs": [
        {
          "output_type": "stream",
          "name": "stdout",
          "text": [
            "tensor([[-10.7387, -11.4417, -10.6568,  -8.7661, -14.8958,  -4.3373, -11.7518,\n",
            "          -3.0629,  -5.4415,  -0.0665]])\n"
          ]
        }
      ]
    },
    {
      "cell_type": "code",
      "metadata": {
        "id": "pA7YAAsGaiJy"
      },
      "source": [
        "def view_classify(img, ps, version=\"MNIST\"):\n",
        "    ''' Function for viewing an image and it's predicted classes.\n",
        "    '''\n",
        "    ps = ps.data.numpy().squeeze()\n",
        "\n",
        "    fig, (ax1, ax2) = plt.subplots(figsize=(6,9), ncols=2)\n",
        "    ax1.imshow(img.resize_(1, 28, 28).numpy().squeeze())\n",
        "    ax1.axis('off')\n",
        "    ax2.barh(np.arange(10), ps)\n",
        "    ax2.set_aspect(0.1)\n",
        "    ax2.set_yticks(np.arange(10))\n",
        "    if version == \"MNIST\":\n",
        "        ax2.set_yticklabels(np.arange(10))\n",
        "    elif version == \"Fashion\":\n",
        "        ax2.set_yticklabels(['T-shirt/top',\n",
        "                            'Trouser',\n",
        "                            'Pullover',\n",
        "                            'Dress',\n",
        "                            'Coat',\n",
        "                            'Sandal',\n",
        "                            'Shirt',\n",
        "                            'Sneaker',\n",
        "                            'Bag',\n",
        "                            'Ankle Boot'], size='small');\n",
        "    ax2.set_title('Class Probability')\n",
        "    ax2.set_xlim(0, 1.1)\n",
        "\n",
        "    plt.tight_layout()"
      ],
      "execution_count": null,
      "outputs": []
    },
    {
      "cell_type": "code",
      "metadata": {
        "colab": {
          "base_uri": "https://localhost:8080/",
          "height": 233
        },
        "id": "0Mht9PGialEQ",
        "outputId": "392c4cc1-6990-4939-944d-0a46b90eec2a"
      },
      "source": [
        "view_classify(img.resize_(1, 28, 28), ps, version='Fashion')\n"
      ],
      "execution_count": null,
      "outputs": [
        {
          "output_type": "display_data",
          "data": {
            "image/png": "[encoded data removed]",
            "text/plain": [
              "<Figure size 432x648 with 2 Axes>"
            ]
          },
          "metadata": {
            "image/png": {
              "width": 424,
              "height": 216
            },
            "needs_background": "light"
          }
        }
      ]
    }
  ]
}